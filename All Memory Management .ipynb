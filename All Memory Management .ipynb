{
 "cells": [
  {
   "cell_type": "markdown",
   "metadata": {},
   "source": [
    "# Best fit "
   ]
  },
  {
   "cell_type": "code",
   "execution_count": 7,
   "metadata": {},
   "outputs": [
    {
     "name": "stdout",
     "output_type": "stream",
     "text": [
      "Available bocks [100, 500, 200, 300, 600]\n",
      "The process size block is [212, 417, 112, 426]\n",
      "The process of size  212  is present in block  4\n",
      "The process of size  417  is present in block  2\n",
      "The process of size  112  is present in block  3\n",
      "The process of size  426  is present in block  5\n"
     ]
    }
   ],
   "source": [
    "def best_fit(available_block,process_block,block):\n",
    "    for i in range(len(process_block)):\n",
    "        for j in range(len(available_block)):\n",
    "            if(process_block[i]<=available_block[j]):\n",
    "                print(\"The process of size \",process_block[i],\" is present in block \", block[j])\n",
    "                available_block[j]=0\n",
    "                break\n",
    "        else:\n",
    "            print(\"The process of size \",process_block[i],\" is not allocated.\")\n",
    "    return \n",
    "available_block=[100,500,200,300,600]\n",
    "block=[1,2,3,4,5]\n",
    "process_block=[212,417,112,426]\n",
    "print(\"Available bocks\",available_block)\n",
    "print(\"The process size block is\",process_block)\n",
    "for i in range(len(block)-1,0,-1):\n",
    "    for j in range(0,i):\n",
    "        if(available_block[j]>available_block[j+1]):\n",
    "            available_block[j],available_block[j+1]=available_block[j+1],available_block[j]\n",
    "            block[j],block[j+1]=block[j+1],block[j]\n",
    "b=best_fit(available_block,process_block,block)"
   ]
  },
  {
   "cell_type": "markdown",
   "metadata": {},
   "source": [
    "# First Fit \n"
   ]
  },
  {
   "cell_type": "code",
   "execution_count": 19,
   "metadata": {},
   "outputs": [
    {
     "name": "stdout",
     "output_type": "stream",
     "text": [
      "Available blocks [40, 65, 80, 100]\n",
      "The process size block is [40, 0, 15, 20, 25]\n",
      "The process of size 40 is present in block P1\n",
      "The process of size 0 is present in block P1\n",
      "The process of size 15 is present in block P2\n",
      "The process of size 20 is present in block P3\n",
      "The process of size 25 is present in block P4\n"
     ]
    }
   ],
   "source": [
    "def first_fit(available_block,process_block):\n",
    "    for i in range(len(process_block)):\n",
    "        for j in range(len(available_block)):\n",
    "            if(process_block[i]<=available_block[j]):\n",
    "                print(f'The process of size {process_block [i] } is present in block P{j+1}')\n",
    "                available_block[j]=0\n",
    "                break\n",
    "            if (process_block[i]==0):\n",
    "                print(f'The process P{j+1} is terminated')\n",
    "        else:\n",
    "            print(\"The process of size \",process_block[i],\" is not allocated.\")\n",
    "    return \n",
    "available_block=[40,65,80,100]\n",
    "process_block=[40,0,15,20,25]\n",
    "print(\"Available blocks\",available_block)\n",
    "print(\"The process size block is\",process_block)\n",
    "b=first_fit(available_block,process_block)\n"
   ]
  },
  {
   "cell_type": "markdown",
   "metadata": {},
   "source": [
    "# Worst Fit "
   ]
  },
  {
   "cell_type": "code",
   "execution_count": 11,
   "metadata": {},
   "outputs": [
    {
     "name": "stdout",
     "output_type": "stream",
     "text": [
      "Available bocks [100, 500, 200, 300, 600]\n",
      "The process size block is [212, 417, 112, 426]\n",
      "[600, 500, 300, 200, 100]\n",
      "The process of size  212  is present in block  5\n",
      "The process of size  417  is present in block  2\n",
      "The process of size  112  is present in block  4\n",
      "The process of size  426  is not allocated.\n"
     ]
    }
   ],
   "source": [
    "def worst_fit(available_block,process_block,block):\n",
    "    for i in range(len(process_block)):\n",
    "        for j in range(len(available_block)):\n",
    "            if(process_block[i]<=available_block[j]):\n",
    "                print(\"The process of size \",process_block[i],\" is present in block \", block[j])\n",
    "                available_block[j]=0\n",
    "                break\n",
    "        else:\n",
    "            print(\"The process of size \",process_block[i],\" is not allocated.\")\n",
    "    return \n",
    "available_block=[100,500,200,300,600]\n",
    "block=[1,2,3,4,5]\n",
    "process_block=[212,417,112,426]\n",
    "print(\"Available bocks\",available_block)\n",
    "print(\"The process size block is\",process_block)\n",
    "for i in range(len(block)-1,0,-1):\n",
    "    for j in range(0,i):\n",
    "        if(available_block[j]>available_block[j+1]):\n",
    "            available_block[j],available_block[j+1]=available_block[j+1],available_block[j]\n",
    "            block[j],block[j+1]=block[j+1],block[j]\n",
    "available_block.reverse()\n",
    "block.reverse()\n",
    "print(available_block)\n",
    "b=worst_fit(available_block,process_block,block)"
   ]
  },
  {
   "cell_type": "code",
   "execution_count": null,
   "metadata": {},
   "outputs": [],
   "source": []
  }
 ],
 "metadata": {
  "kernelspec": {
   "display_name": "Python 3 (ipykernel)",
   "language": "python",
   "name": "python3"
  },
  "language_info": {
   "codemirror_mode": {
    "name": "ipython",
    "version": 3
   },
   "file_extension": ".py",
   "mimetype": "text/x-python",
   "name": "python",
   "nbconvert_exporter": "python",
   "pygments_lexer": "ipython3",
   "version": "3.9.13"
  }
 },
 "nbformat": 4,
 "nbformat_minor": 4
}
